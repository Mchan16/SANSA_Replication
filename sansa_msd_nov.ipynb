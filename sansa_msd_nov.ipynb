{
 "cells": [
  {
   "cell_type": "code",
   "execution_count": 14,
   "metadata": {},
   "outputs": [],
   "source": [
    "from models.sansa import SANSA\n",
    "\n",
    "sansa_config = {\n",
    "    \"l2\": 2.5,\n",
    "    \"target_density\": 0.0005,\n",
    "    \"ainv_params\": {\n",
    "        \"umr_scans\": 4,\n",
    "        \"umr_finetune_steps\": 10,\n",
    "        \"umr_loss_threshold\": 1e-4,\n",
    "    },\n",
    "    \"ldlt_method\": \"icf\",\n",
    "    \"ldlt_params\": {},\n",
    "}\n",
    "     \n",
    "sansa = SANSA.from_config(sansa_config)\n"
   ]
  },
  {
   "cell_type": "code",
   "execution_count": 11,
   "metadata": {},
   "outputs": [
    {
     "name": "stderr",
     "output_type": "stream",
     "text": [
      "2024-04-27 22:19:12,660 : [1/3] DATASET : Loading processed dataset datasets/data/msd/dataset.parquet.\n"
     ]
    }
   ],
   "source": [
    "# Load msd data. Takes about 6 minutes on CSEL-CUDA-03.cselabs.umn.edu\n",
    "\n",
    "from datasets.msd import MSD\n",
    "\n",
    "msd_data_config = {\n",
    "    \"name\": \"msd\",\n",
    "    \"rewrite\": False,\n",
    "}\n",
    "\n",
    "msd_dataset = MSD.from_config(msd_data_config)"
   ]
  },
  {
   "cell_type": "code",
   "execution_count": 12,
   "metadata": {},
   "outputs": [
    {
     "name": "stderr",
     "output_type": "stream",
     "text": [
      "2024-04-27 22:19:38,833 : [1/3] DATASET : Dataframe lengths | train_df: 27728200, val_df: 2953824, test_df: 2951425\n",
      "2024-04-27 22:21:18,509 : [1/3] DATASET : Splits information:\n",
      "2024-04-27 22:21:18,513 : [1/3] DATASET : Train split info | n_users = 471355, n_items = 41140, n_ratings = 27728200, sparsity = 99.86%\n",
      "2024-04-27 22:21:18,515 : [1/3] DATASET : Validation split info | n_users = 50000, n_items = 41140, n_ratings = 2382298, sparsity = 99.88%\n",
      "2024-04-27 22:21:18,516 : [1/3] DATASET : Test split info | n_users = 50000, n_items = 41140, n_ratings = 2380405, sparsity = 99.88%\n",
      "2024-04-27 22:21:18,517 : [1/3] DATASET : Execution of create_splits took at 117.312 seconds.\n"
     ]
    }
   ],
   "source": [
    "msd_split_config = {\n",
    "    \"n_val_users\": 50000,\n",
    "    \"n_test_users\": 50000,\n",
    "    \"seed\": 42,\n",
    "    \"target_proportion\": 0.2,\n",
    "    \"targets_newest\": False,\n",
    "}\n",
    "\n",
    "(msd_train, msd_val, msd_test), msd_split_time = msd_dataset.create_splits(msd_split_config)"
   ]
  },
  {
   "cell_type": "code",
   "execution_count": 15,
   "metadata": {},
   "outputs": [
    {
     "name": "stderr",
     "output_type": "stream",
     "text": [
      "2024-04-27 22:31:41,512 : [2/3] TRAINING : Train user-item matrix info | n_users = 471355, n_items = 41140, n_ratings = 27728200, sparsity = 99.86%\n",
      "2024-04-27 22:31:41,515 : [2/3] TRAINING : Item-item matrix info | shape = (41140,41140)\n",
      "2024-04-27 22:31:41,516 : [2/3] TRAINING : Training SANSA with L2=2.5, target density=0.050000%, LDL^T method=icf, approx. inverse method=umr...\n",
      "2024-04-27 22:31:41,518 : [2/3] TRAINING : Loading item-user matrix...\n",
      "2024-04-27 22:31:43,804 : [2/3] TRAINING : Constructing weights:\n",
      "2024-04-27 22:31:58,694 : [2/3] TRAINING : Constructing A...\n",
      "2024-04-27 22:32:05,207 : [2/3] TRAINING : A info | nnz: 703833604, size: 8446.2 MB\n",
      "2024-04-27 22:32:36,102 : [2/3] TRAINING : Computing incomplete LL^T decomposition...\n",
      "2024-04-27 22:34:58,575 : [2/3] TRAINING : L info | nnz: 846061, size: 10.317 MB, density: 0.049989%\n",
      "2024-04-27 22:34:58,577 : [2/3] TRAINING : Scaling columns and creating D (LL^T -> L'DL'^T)\n",
      "2024-04-27 22:34:58,596 : [2/3] TRAINING : Execution of ldlt took at 194.790 seconds.\n",
      "2024-04-27 22:34:58,597 : [2/3] TRAINING : nnz of L: 846061, size: 10.317 MB\n",
      "2024-04-27 22:34:58,598 : [2/3] TRAINING : Computing approximate inverse of L:\n",
      "2024-04-27 22:34:58,599 : [2/3] TRAINING : Calculating initial guess using 1 step of Schultz method...\n",
      "2024-04-27 22:34:58,608 : [2/3] TRAINING : Calculating approximate inverse using Uniform Minimal Residual algorithm...\n",
      "2024-04-27 22:34:58,682 : [2/3] TRAINING : Current maximum residual: 0.17344460, relative Frobenius norm squared: 0.00058961\n",
      "2024-04-27 22:34:58,684 : [2/3] TRAINING : Performing UMR scan 1...\n",
      "2024-04-27 22:34:58,739 : [2/3] TRAINING : Execution of _umr_scan took at 0.054 seconds.\n",
      "2024-04-27 22:34:58,815 : [2/3] TRAINING : Current maximum residual: 0.17344460, relative Frobenius norm squared: 0.00058961\n",
      "2024-04-27 22:34:58,816 : [2/3] TRAINING : Performing UMR scan 2...\n",
      "2024-04-27 22:34:58,870 : [2/3] TRAINING : Execution of _umr_scan took at 0.053 seconds.\n",
      "2024-04-27 22:34:58,944 : [2/3] TRAINING : Current maximum residual: 0.17344460, relative Frobenius norm squared: 0.00058961\n",
      "2024-04-27 22:34:58,945 : [2/3] TRAINING : Performing UMR scan 3...\n",
      "2024-04-27 22:35:26,842 : [2/3] TRAINING : Execution of _umr_scan took at 27.896 seconds.\n",
      "2024-04-27 22:35:26,914 : [2/3] TRAINING : Current maximum residual: 0.02928781, relative Frobenius norm squared: 0.00007647\n",
      "2024-04-27 22:35:26,915 : [2/3] TRAINING : Reached stopping criterion.\n",
      "2024-04-27 22:35:26,984 : [2/3] TRAINING : Current maximum residual: 0.02928781, relative Frobenius norm squared: 0.00007647\n",
      "2024-04-27 22:35:27,000 : [2/3] TRAINING : Execution of ainv_L took at 28.401 seconds.\n",
      "2024-04-27 22:35:27,001 : [2/3] TRAINING : nnz of L_inv: 846249, size: 10.320 MB\n",
      "2024-04-27 22:35:27,001 : [2/3] TRAINING : Constructing W = L_inv @ P...\n",
      "2024-04-27 22:35:27,027 : [2/3] TRAINING : Extracting diagonal of W.T @ D_inv @ W...\n",
      "2024-04-27 22:35:27,046 : [2/3] TRAINING : Dividing columns of W by diagonal entries...\n",
      "2024-04-27 22:35:27,226 : [2/3] TRAINING : Execution of _construct_weights took at 223.420 seconds.\n"
     ]
    }
   ],
   "source": [
    "# Train Sansa\n",
    "sansa.train(msd_train)"
   ]
  },
  {
   "cell_type": "code",
   "execution_count": 16,
   "metadata": {},
   "outputs": [
    {
     "name": "stderr",
     "output_type": "stream",
     "text": [
      "2024-04-27 22:40:02,655 : [3/3] EVALUATION : Execution of _matmat took at 0.186 seconds.\n",
      "2024-04-27 22:40:06,510 : [3/3] EVALUATION : Execution of _matmat took at 3.850 seconds.\n",
      "2024-04-27 22:40:20,405 : [3/3] EVALUATION : Execution of _predict took at 17.935 seconds.\n"
     ]
    }
   ],
   "source": [
    "import pandas as pd\n",
    "\n",
    "# Evaluate on novelty\n",
    "# Get all users\n",
    "users = list(msd_test.user_encoder.classes_)\n",
    "# Get rated items of users\n",
    "users_rated = msd_test.get_rated_items(users)\n",
    "targets = msd_test.get_target_items(users)\n",
    "target_ids_dict = (\n",
    "    targets.groupby(\"user_id\", group_keys=True)[\"item_id\"]\n",
    "    .apply(list)\n",
    "    .to_dict()\n",
    ")\n",
    "keys = list(target_ids_dict.keys())\n",
    "users_to_arange = {user: i for i, user in enumerate(keys)}\n",
    "pd.options.mode.chained_assignment = None  # suppress irrelevant warning\n",
    "users_rated[\"user_id\"] = users_rated[\"user_id\"].map(users_to_arange)\n",
    "pd.options.mode.chained_assignment = \"warn\"\n",
    "top_maxk_ids, top_maxk_scores = sansa.recommend(users_rated, 20)"
   ]
  },
  {
   "cell_type": "code",
   "execution_count": 18,
   "metadata": {},
   "outputs": [],
   "source": [
    "# Create dictionary of item occurences for novelty metric\n",
    "training_csr_matrix = msd_train.get_csr_matrix()\n",
    "item_occurrences = training_csr_matrix.sum(axis=0)\n",
    "item_ids = item_occurrences.nonzero()[1]\n",
    "# Get the occurrences as a numpy array\n",
    "item_occurrences = item_occurrences.A1\n",
    "    \n",
    "# Create a dictionary of item IDs and their occurrences\n",
    "item_occurrences_dict = dict(zip(item_ids, item_occurrences))"
   ]
  },
  {
   "cell_type": "code",
   "execution_count": 19,
   "metadata": {},
   "outputs": [
    {
     "data": {
      "text/plain": [
       "4.644236306714888"
      ]
     },
     "execution_count": 19,
     "metadata": {},
     "output_type": "execute_result"
    }
   ],
   "source": [
    "import recmetrics\n",
    "\n",
    "msd_novelty, msd_novelty_topn = recmetrics.novelty(top_maxk_ids, item_occurrences_dict, len(users), 20)\n",
    "\n",
    "msd_novelty"
   ]
  },
  {
   "cell_type": "code",
   "execution_count": null,
   "metadata": {},
   "outputs": [],
   "source": []
  }
 ],
 "metadata": {
  "kernelspec": {
   "display_name": "sansa",
   "language": "python",
   "name": "python3"
  },
  "language_info": {
   "codemirror_mode": {
    "name": "ipython",
    "version": 3
   },
   "file_extension": ".py",
   "mimetype": "text/x-python",
   "name": "python",
   "nbconvert_exporter": "python",
   "pygments_lexer": "ipython3",
   "version": "3.10.14"
  }
 },
 "nbformat": 4,
 "nbformat_minor": 2
}
