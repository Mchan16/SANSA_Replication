{
 "cells": [
  {
   "cell_type": "code",
   "execution_count": 1,
   "metadata": {},
   "outputs": [
    {
     "name": "stderr",
     "output_type": "stream",
     "text": [
      "2024-04-29 12:02:33,059 : [1/3] DATASET : Loading processed dataset datasets/data/msd/dataset.parquet.\n"
     ]
    }
   ],
   "source": [
    "# Load msd data. Takes about 6 minutes on CSEL-CUDA-03.cselabs.umn.edu\n",
    "\n",
    "from datasets.msd import MSD\n",
    "\n",
    "msd_data_config = {\n",
    "    \"name\": \"msd\",\n",
    "    \"rewrite\": False,\n",
    "}\n",
    "\n",
    "msd_dataset = MSD.from_config(msd_data_config)"
   ]
  },
  {
   "cell_type": "code",
   "execution_count": 2,
   "metadata": {},
   "outputs": [
    {
     "name": "stderr",
     "output_type": "stream",
     "text": [
      "2024-04-29 12:02:57,082 : [1/3] DATASET : Dataframe lengths | train_df: 27728200, val_df: 2953824, test_df: 2951425\n",
      "2024-04-29 12:04:39,638 : [1/3] DATASET : Splits information:\n",
      "2024-04-29 12:04:39,642 : [1/3] DATASET : Train split info | n_users = 471355, n_items = 41140, n_ratings = 27728200, sparsity = 99.86%\n",
      "2024-04-29 12:04:39,644 : [1/3] DATASET : Validation split info | n_users = 50000, n_items = 41140, n_ratings = 2382298, sparsity = 99.88%\n",
      "2024-04-29 12:04:39,645 : [1/3] DATASET : Test split info | n_users = 50000, n_items = 41140, n_ratings = 2380405, sparsity = 99.88%\n",
      "2024-04-29 12:04:39,646 : [1/3] DATASET : Execution of create_splits took at 125.956 seconds.\n"
     ]
    }
   ],
   "source": [
    "msd_split_config = {\n",
    "    \"n_val_users\": 50000,\n",
    "    \"n_test_users\": 50000,\n",
    "    \"seed\": 42,\n",
    "    \"target_proportion\": 0.2,\n",
    "    \"targets_newest\": False,\n",
    "}\n",
    "\n",
    "(msd_train, msd_val, msd_test), msd_split_time = msd_dataset.create_splits(msd_split_config)"
   ]
  },
  {
   "cell_type": "code",
   "execution_count": 3,
   "metadata": {},
   "outputs": [],
   "source": [
    "# Create dictionary of item occurences for novelty metric\n",
    "training_csr_matrix = msd_train.get_csr_matrix()\n",
    "item_occurrences = training_csr_matrix.sum(axis=0)\n",
    "item_ids = item_occurrences.nonzero()[1]\n",
    "# Get the occurrences as a numpy array\n",
    "item_occurrences = item_occurrences.A1\n",
    "    \n",
    "# Create a dictionary of item IDs and their occurrences\n",
    "item_occurrences_dict = dict(zip(item_ids, item_occurrences))"
   ]
  },
  {
   "cell_type": "code",
   "execution_count": 4,
   "metadata": {},
   "outputs": [],
   "source": [
    "from models.randomrec import RANDOM_REC\n",
    "\n",
    "# No need to train, just predict\n",
    "ran_pred = RANDOM_REC(msd_test.data, 20)"
   ]
  },
  {
   "cell_type": "code",
   "execution_count": 5,
   "metadata": {},
   "outputs": [
    {
     "data": {
      "text/plain": [
       "6.9698148781674085"
      ]
     },
     "execution_count": 5,
     "metadata": {},
     "output_type": "execute_result"
    }
   ],
   "source": [
    "import recmetrics\n",
    "\n",
    "msd_novelty, msd_novelty_topn = recmetrics.novelty(ran_pred, item_occurrences_dict, len(msd_test.data['user_id'].unique().tolist()), 20)\n",
    "\n",
    "msd_novelty"
   ]
  }
 ],
 "metadata": {
  "kernelspec": {
   "display_name": "sansa",
   "language": "python",
   "name": "python3"
  },
  "language_info": {
   "codemirror_mode": {
    "name": "ipython",
    "version": 3
   },
   "file_extension": ".py",
   "mimetype": "text/x-python",
   "name": "python",
   "nbconvert_exporter": "python",
   "pygments_lexer": "ipython3",
   "version": "3.10.14"
  }
 },
 "nbformat": 4,
 "nbformat_minor": 2
}
